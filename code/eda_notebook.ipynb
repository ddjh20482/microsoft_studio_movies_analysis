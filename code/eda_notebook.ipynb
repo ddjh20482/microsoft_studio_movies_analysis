{
 "cells": [
  {
   "cell_type": "markdown",
   "metadata": {},
   "source": [
    "## EDA notebook"
   ]
  },
  {
   "cell_type": "code",
   "execution_count": 1,
   "metadata": {},
   "outputs": [],
   "source": [
    "import pandas as pd\n",
    "import sqlite3\n",
    "\n",
    "import data_preparation as dp\n",
    "\n",
    "df_p = pd.read_csv('../data/tn.movie_budgets.csv.gz')\n",
    "df_g = pd.read_csv('../data/tmdb.movies.csv.gz')\n",
    "\n",
    "con = sqlite3.connect(\"../data/im.db\")\n",
    "df_r = pd.read_sql(\"\"\"SELECT * FROM movie_basics;\"\"\", con)"
   ]
  },
  {
   "cell_type": "code",
   "execution_count": 2,
   "metadata": {},
   "outputs": [],
   "source": [
    "set_year = 2000"
   ]
  },
  {
   "cell_type": "code",
   "execution_count": 3,
   "metadata": {},
   "outputs": [
    {
     "name": "stdout",
     "output_type": "stream",
     "text": [
      "<class 'pandas.core.frame.DataFrame'>\n",
      "RangeIndex: 5782 entries, 0 to 5781\n",
      "Data columns (total 6 columns):\n",
      " #   Column             Non-Null Count  Dtype \n",
      "---  ------             --------------  ----- \n",
      " 0   id                 5782 non-null   int64 \n",
      " 1   release_date       5782 non-null   object\n",
      " 2   movie              5782 non-null   object\n",
      " 3   production_budget  5782 non-null   object\n",
      " 4   domestic_gross     5782 non-null   object\n",
      " 5   worldwide_gross    5782 non-null   object\n",
      "dtypes: int64(1), object(5)\n",
      "memory usage: 271.2+ KB\n"
     ]
    }
   ],
   "source": [
    "df_p.info()"
   ]
  },
  {
   "cell_type": "code",
   "execution_count": 4,
   "metadata": {},
   "outputs": [
    {
     "name": "stdout",
     "output_type": "stream",
     "text": [
      "<class 'pandas.core.frame.DataFrame'>\n",
      "RangeIndex: 26517 entries, 0 to 26516\n",
      "Data columns (total 10 columns):\n",
      " #   Column             Non-Null Count  Dtype  \n",
      "---  ------             --------------  -----  \n",
      " 0   Unnamed: 0         26517 non-null  int64  \n",
      " 1   genre_ids          26517 non-null  object \n",
      " 2   id                 26517 non-null  int64  \n",
      " 3   original_language  26517 non-null  object \n",
      " 4   original_title     26517 non-null  object \n",
      " 5   popularity         26517 non-null  float64\n",
      " 6   release_date       26517 non-null  object \n",
      " 7   title              26517 non-null  object \n",
      " 8   vote_average       26517 non-null  float64\n",
      " 9   vote_count         26517 non-null  int64  \n",
      "dtypes: float64(2), int64(3), object(5)\n",
      "memory usage: 2.0+ MB\n"
     ]
    }
   ],
   "source": [
    "df_g.info()"
   ]
  },
  {
   "cell_type": "code",
   "execution_count": 5,
   "metadata": {},
   "outputs": [
    {
     "name": "stdout",
     "output_type": "stream",
     "text": [
      "<class 'pandas.core.frame.DataFrame'>\n",
      "RangeIndex: 146144 entries, 0 to 146143\n",
      "Data columns (total 6 columns):\n",
      " #   Column           Non-Null Count   Dtype  \n",
      "---  ------           --------------   -----  \n",
      " 0   movie_id         146144 non-null  object \n",
      " 1   primary_title    146144 non-null  object \n",
      " 2   original_title   146123 non-null  object \n",
      " 3   start_year       146144 non-null  int64  \n",
      " 4   runtime_minutes  114405 non-null  float64\n",
      " 5   genres           140736 non-null  object \n",
      "dtypes: float64(1), int64(1), object(4)\n",
      "memory usage: 6.7+ MB\n"
     ]
    }
   ],
   "source": [
    "df_r.info()"
   ]
  },
  {
   "cell_type": "markdown",
   "metadata": {},
   "source": [
    "## Profit Data\n",
    "\n",
    "Budget amount and worldwide_gross amount are converted to integers. \\\n",
    "Profit = (budget - worldwide_gross) / 1000000"
   ]
  },
  {
   "cell_type": "code",
   "execution_count": 6,
   "metadata": {},
   "outputs": [
    {
     "data": {
      "text/plain": [
       "5782"
      ]
     },
     "execution_count": 6,
     "metadata": {},
     "output_type": "execute_result"
    }
   ],
   "source": [
    "len(df_p.movie)"
   ]
  },
  {
   "cell_type": "code",
   "execution_count": 7,
   "metadata": {},
   "outputs": [
    {
     "data": {
      "text/plain": [
       "count                             5782\n",
       "mean     2004-07-06 05:20:31.546177792\n",
       "min                1915-02-08 00:00:00\n",
       "25%                2000-04-22 18:00:00\n",
       "50%                2007-03-02 00:00:00\n",
       "75%                2012-12-25 00:00:00\n",
       "max                2020-12-31 00:00:00\n",
       "Name: date, dtype: object"
      ]
     },
     "execution_count": 7,
     "metadata": {},
     "output_type": "execute_result"
    }
   ],
   "source": [
    "df_p['date'] = pd.to_datetime(df_p.release_date)\n",
    "df_p['date'].describe(datetime_is_numeric=True)"
   ]
  },
  {
   "cell_type": "code",
   "execution_count": 8,
   "metadata": {},
   "outputs": [],
   "source": [
    "df_p = dp.profit(df_p, set_year)"
   ]
  },
  {
   "cell_type": "code",
   "execution_count": 9,
   "metadata": {},
   "outputs": [
    {
     "name": "stdout",
     "output_type": "stream",
     "text": [
      "<class 'pandas.core.frame.DataFrame'>\n",
      "Int64Index: 4045 entries, 0 to 2\n",
      "Data columns (total 8 columns):\n",
      " #   Column             Non-Null Count  Dtype         \n",
      "---  ------             --------------  -----         \n",
      " 0   movie              4045 non-null   object        \n",
      " 1   production_budget  4045 non-null   object        \n",
      " 2   worldwide_gross    4045 non-null   object        \n",
      " 3   date               4045 non-null   datetime64[ns]\n",
      " 4   year               4045 non-null   int64         \n",
      " 5   budget             4045 non-null   float64       \n",
      " 6   w_gross            4045 non-null   float64       \n",
      " 7   profit             4045 non-null   float64       \n",
      "dtypes: datetime64[ns](1), float64(3), int64(1), object(3)\n",
      "memory usage: 284.4+ KB\n"
     ]
    }
   ],
   "source": [
    "df_p.info()"
   ]
  },
  {
   "cell_type": "code",
   "execution_count": 10,
   "metadata": {
    "scrolled": true
   },
   "outputs": [
    {
     "data": {
      "text/plain": [
       "count    4045.000000\n",
       "mean       68.241753\n",
       "std       158.370638\n",
       "min      -200.240000\n",
       "25%        -1.970000\n",
       "50%        12.130000\n",
       "75%        70.940000\n",
       "max      2351.350000\n",
       "Name: profit, dtype: float64"
      ]
     },
     "execution_count": 10,
     "metadata": {},
     "output_type": "execute_result"
    }
   ],
   "source": [
    "df_p.profit.describe()"
   ]
  },
  {
   "cell_type": "code",
   "execution_count": 11,
   "metadata": {},
   "outputs": [
    {
     "data": {
      "text/plain": [
       "count    4045.000000\n",
       "mean       36.885946\n",
       "std        46.410398\n",
       "min         0.000000\n",
       "25%         7.000000\n",
       "50%        20.000000\n",
       "75%        48.000000\n",
       "max       425.000000\n",
       "Name: budget, dtype: float64"
      ]
     },
     "execution_count": 11,
     "metadata": {},
     "output_type": "execute_result"
    }
   ],
   "source": [
    "df_p.budget.describe()"
   ]
  },
  {
   "cell_type": "markdown",
   "metadata": {},
   "source": [
    "## Genre Data"
   ]
  },
  {
   "cell_type": "code",
   "execution_count": 12,
   "metadata": {},
   "outputs": [
    {
     "data": {
      "text/plain": [
       "26517"
      ]
     },
     "execution_count": 12,
     "metadata": {},
     "output_type": "execute_result"
    }
   ],
   "source": [
    "len(df_g)"
   ]
  },
  {
   "cell_type": "code",
   "execution_count": 13,
   "metadata": {},
   "outputs": [
    {
     "data": {
      "text/plain": [
       "str"
      ]
     },
     "execution_count": 13,
     "metadata": {},
     "output_type": "execute_result"
    }
   ],
   "source": [
    "type(df_g.genre_ids[0])"
   ]
  },
  {
   "cell_type": "code",
   "execution_count": 14,
   "metadata": {},
   "outputs": [],
   "source": [
    "df_g = dp.genre(df_g)"
   ]
  },
  {
   "cell_type": "code",
   "execution_count": 15,
   "metadata": {},
   "outputs": [
    {
     "name": "stdout",
     "output_type": "stream",
     "text": [
      "<class 'pandas.core.frame.DataFrame'>\n",
      "Int64Index: 25494 entries, 0 to 26516\n",
      "Data columns (total 3 columns):\n",
      " #   Column        Non-Null Count  Dtype \n",
      "---  ------        --------------  ----- \n",
      " 0   genre_ids     25494 non-null  object\n",
      " 1   release_date  25494 non-null  object\n",
      " 2   title         25494 non-null  object\n",
      "dtypes: object(3)\n",
      "memory usage: 796.7+ KB\n"
     ]
    }
   ],
   "source": [
    "df_g.info()"
   ]
  },
  {
   "cell_type": "markdown",
   "metadata": {},
   "source": [
    "## Runtime data"
   ]
  },
  {
   "cell_type": "code",
   "execution_count": 16,
   "metadata": {},
   "outputs": [
    {
     "data": {
      "text/plain": [
       "146144"
      ]
     },
     "execution_count": 16,
     "metadata": {},
     "output_type": "execute_result"
    }
   ],
   "source": [
    "len(df_r)"
   ]
  },
  {
   "cell_type": "code",
   "execution_count": 17,
   "metadata": {},
   "outputs": [
    {
     "data": {
      "text/plain": [
       "count    114405.000000\n",
       "mean         86.187247\n",
       "std         166.360590\n",
       "min           1.000000\n",
       "25%          70.000000\n",
       "50%          87.000000\n",
       "75%          99.000000\n",
       "max       51420.000000\n",
       "Name: runtime_minutes, dtype: float64"
      ]
     },
     "execution_count": 17,
     "metadata": {},
     "output_type": "execute_result"
    }
   ],
   "source": [
    "df_r.runtime_minutes.describe()"
   ]
  },
  {
   "cell_type": "code",
   "execution_count": 18,
   "metadata": {},
   "outputs": [],
   "source": [
    "df_r = dp.runtime(con)"
   ]
  },
  {
   "cell_type": "code",
   "execution_count": 19,
   "metadata": {},
   "outputs": [
    {
     "name": "stdout",
     "output_type": "stream",
     "text": [
      "<class 'pandas.core.frame.DataFrame'>\n",
      "RangeIndex: 114405 entries, 0 to 114404\n",
      "Data columns (total 4 columns):\n",
      " #   Column           Non-Null Count   Dtype  \n",
      "---  ------           --------------   -----  \n",
      " 0   movie_id         114405 non-null  object \n",
      " 1   primary_title    114405 non-null  object \n",
      " 2   start_year       114405 non-null  int64  \n",
      " 3   runtime_minutes  114405 non-null  float64\n",
      "dtypes: float64(1), int64(1), object(2)\n",
      "memory usage: 3.5+ MB\n"
     ]
    }
   ],
   "source": [
    "df_r.info()"
   ]
  },
  {
   "cell_type": "markdown",
   "metadata": {},
   "source": [
    "## Merge\n",
    "Movie titles are lower-cased and spaces and punctuations are removed before merging."
   ]
  },
  {
   "cell_type": "code",
   "execution_count": 20,
   "metadata": {},
   "outputs": [
    {
     "data": {
      "text/plain": [
       "0                                   Avatar\n",
       "6                   Avengers: Infinity War\n",
       "5     Star Wars Ep. VII: The Force Awakens\n",
       "33                          Jurassic World\n",
       "66                               Furious 7\n",
       "Name: movie, dtype: object"
      ]
     },
     "execution_count": 20,
     "metadata": {},
     "output_type": "execute_result"
    }
   ],
   "source": [
    "df_p.movie.head()"
   ]
  },
  {
   "cell_type": "code",
   "execution_count": 21,
   "metadata": {},
   "outputs": [
    {
     "data": {
      "text/plain": [
       "0    Harry Potter and the Deathly Hallows: Part 1\n",
       "1                        How to Train Your Dragon\n",
       "2                                      Iron Man 2\n",
       "3                                       Toy Story\n",
       "4                                       Inception\n",
       "Name: title, dtype: object"
      ]
     },
     "execution_count": 21,
     "metadata": {},
     "output_type": "execute_result"
    }
   ],
   "source": [
    "df_g.title.head()"
   ]
  },
  {
   "cell_type": "code",
   "execution_count": 22,
   "metadata": {},
   "outputs": [
    {
     "data": {
      "text/plain": [
       "0                          Sunghursh\n",
       "1    One Day Before the Rainy Season\n",
       "2         The Other Side of the Wind\n",
       "3           The Wandering Soap Opera\n",
       "4                        A Thin Life\n",
       "Name: primary_title, dtype: object"
      ]
     },
     "execution_count": 22,
     "metadata": {},
     "output_type": "execute_result"
    }
   ],
   "source": [
    "df_r.primary_title.head()"
   ]
  },
  {
   "cell_type": "code",
   "execution_count": 23,
   "metadata": {},
   "outputs": [],
   "source": [
    "df_p.movie = dp.movie_name_clean(df_p.movie)\n",
    "df_g.title = dp.movie_name_clean(df_g.title)\n",
    "df_r.primary_title = dp.movie_name_clean(df_r.primary_title)"
   ]
  },
  {
   "cell_type": "code",
   "execution_count": 24,
   "metadata": {},
   "outputs": [
    {
     "data": {
      "text/plain": [
       "0                           avatar\n",
       "6              avengersinfinitywar\n",
       "5     starwarsepviitheforceawakens\n",
       "33                   jurassicworld\n",
       "66                        furious7\n",
       "Name: movie, dtype: object"
      ]
     },
     "execution_count": 24,
     "metadata": {},
     "output_type": "execute_result"
    }
   ],
   "source": [
    "df_p.movie.head()"
   ]
  },
  {
   "cell_type": "code",
   "execution_count": 25,
   "metadata": {},
   "outputs": [
    {
     "data": {
      "text/plain": [
       "0    harrypotterandthedeathlyhallowspart1\n",
       "1                    howtotrainyourdragon\n",
       "2                                ironman2\n",
       "3                                toystory\n",
       "4                               inception\n",
       "Name: title, dtype: object"
      ]
     },
     "execution_count": 25,
     "metadata": {},
     "output_type": "execute_result"
    }
   ],
   "source": [
    "df_g.title.head()"
   ]
  },
  {
   "cell_type": "code",
   "execution_count": 26,
   "metadata": {},
   "outputs": [
    {
     "data": {
      "text/plain": [
       "0                     sunghursh\n",
       "1    onedaybeforetherainyseason\n",
       "2         theothersideofthewind\n",
       "3         thewanderingsoapopera\n",
       "4                     athinlife\n",
       "Name: primary_title, dtype: object"
      ]
     },
     "execution_count": 26,
     "metadata": {},
     "output_type": "execute_result"
    }
   ],
   "source": [
    "df_r.primary_title.head()"
   ]
  },
  {
   "cell_type": "code",
   "execution_count": 27,
   "metadata": {},
   "outputs": [],
   "source": [
    "df_genre = df_p.merge(df_g, how = 'inner', left_on = 'movie', right_on = 'title')\n",
    "df_runtime = df_p.merge(df_r, how = 'inner', left_on = 'movie', right_on = 'primary_title')"
   ]
  },
  {
   "cell_type": "code",
   "execution_count": 28,
   "metadata": {},
   "outputs": [
    {
     "name": "stdout",
     "output_type": "stream",
     "text": [
      "<class 'pandas.core.frame.DataFrame'>\n",
      "Int64Index: 1948 entries, 0 to 1947\n",
      "Data columns (total 11 columns):\n",
      " #   Column             Non-Null Count  Dtype         \n",
      "---  ------             --------------  -----         \n",
      " 0   movie              1948 non-null   object        \n",
      " 1   production_budget  1948 non-null   object        \n",
      " 2   worldwide_gross    1948 non-null   object        \n",
      " 3   date               1948 non-null   datetime64[ns]\n",
      " 4   year               1948 non-null   int64         \n",
      " 5   budget             1948 non-null   float64       \n",
      " 6   w_gross            1948 non-null   float64       \n",
      " 7   profit             1948 non-null   float64       \n",
      " 8   genre_ids          1948 non-null   object        \n",
      " 9   release_date       1948 non-null   object        \n",
      " 10  title              1948 non-null   object        \n",
      "dtypes: datetime64[ns](1), float64(3), int64(1), object(6)\n",
      "memory usage: 182.6+ KB\n"
     ]
    }
   ],
   "source": [
    "df_genre.info()"
   ]
  },
  {
   "cell_type": "code",
   "execution_count": 29,
   "metadata": {},
   "outputs": [
    {
     "data": {
      "text/html": [
       "<div>\n",
       "<style scoped>\n",
       "    .dataframe tbody tr th:only-of-type {\n",
       "        vertical-align: middle;\n",
       "    }\n",
       "\n",
       "    .dataframe tbody tr th {\n",
       "        vertical-align: top;\n",
       "    }\n",
       "\n",
       "    .dataframe thead th {\n",
       "        text-align: right;\n",
       "    }\n",
       "</style>\n",
       "<table border=\"1\" class=\"dataframe\">\n",
       "  <thead>\n",
       "    <tr style=\"text-align: right;\">\n",
       "      <th></th>\n",
       "      <th>Genre_name</th>\n",
       "      <th>Genre_count</th>\n",
       "      <th>Median</th>\n",
       "      <th>Q25</th>\n",
       "      <th>Q75</th>\n",
       "    </tr>\n",
       "  </thead>\n",
       "  <tbody>\n",
       "    <tr>\n",
       "      <th>15</th>\n",
       "      <td>TV_Movie</td>\n",
       "      <td>5</td>\n",
       "      <td>-1.920</td>\n",
       "      <td>-4.1800</td>\n",
       "      <td>134.8200</td>\n",
       "    </tr>\n",
       "    <tr>\n",
       "      <th>18</th>\n",
       "      <td>Western</td>\n",
       "      <td>24</td>\n",
       "      <td>-0.825</td>\n",
       "      <td>-8.1875</td>\n",
       "      <td>58.2275</td>\n",
       "    </tr>\n",
       "    <tr>\n",
       "      <th>5</th>\n",
       "      <td>Documentary</td>\n",
       "      <td>71</td>\n",
       "      <td>0.890</td>\n",
       "      <td>-1.1650</td>\n",
       "      <td>22.8550</td>\n",
       "    </tr>\n",
       "    <tr>\n",
       "      <th>17</th>\n",
       "      <td>War</td>\n",
       "      <td>52</td>\n",
       "      <td>5.025</td>\n",
       "      <td>-9.8750</td>\n",
       "      <td>87.2900</td>\n",
       "    </tr>\n",
       "    <tr>\n",
       "      <th>9</th>\n",
       "      <td>History</td>\n",
       "      <td>77</td>\n",
       "      <td>7.640</td>\n",
       "      <td>-7.6300</td>\n",
       "      <td>36.1200</td>\n",
       "    </tr>\n",
       "    <tr>\n",
       "      <th>11</th>\n",
       "      <td>Music</td>\n",
       "      <td>55</td>\n",
       "      <td>8.150</td>\n",
       "      <td>-2.3150</td>\n",
       "      <td>59.6900</td>\n",
       "    </tr>\n",
       "    <tr>\n",
       "      <th>6</th>\n",
       "      <td>Drama</td>\n",
       "      <td>911</td>\n",
       "      <td>8.270</td>\n",
       "      <td>-2.8200</td>\n",
       "      <td>47.7700</td>\n",
       "    </tr>\n",
       "    <tr>\n",
       "      <th>4</th>\n",
       "      <td>Crime</td>\n",
       "      <td>248</td>\n",
       "      <td>10.815</td>\n",
       "      <td>-4.0825</td>\n",
       "      <td>57.1425</td>\n",
       "    </tr>\n",
       "    <tr>\n",
       "      <th>13</th>\n",
       "      <td>Romance</td>\n",
       "      <td>243</td>\n",
       "      <td>15.970</td>\n",
       "      <td>-0.6500</td>\n",
       "      <td>71.3050</td>\n",
       "    </tr>\n",
       "    <tr>\n",
       "      <th>16</th>\n",
       "      <td>Thriller</td>\n",
       "      <td>513</td>\n",
       "      <td>16.960</td>\n",
       "      <td>-2.0200</td>\n",
       "      <td>72.0900</td>\n",
       "    </tr>\n",
       "    <tr>\n",
       "      <th>12</th>\n",
       "      <td>Mystery</td>\n",
       "      <td>140</td>\n",
       "      <td>21.710</td>\n",
       "      <td>-0.1375</td>\n",
       "      <td>87.3025</td>\n",
       "    </tr>\n",
       "    <tr>\n",
       "      <th>10</th>\n",
       "      <td>Horror</td>\n",
       "      <td>236</td>\n",
       "      <td>25.425</td>\n",
       "      <td>-0.4550</td>\n",
       "      <td>69.1950</td>\n",
       "    </tr>\n",
       "    <tr>\n",
       "      <th>3</th>\n",
       "      <td>Comedy</td>\n",
       "      <td>584</td>\n",
       "      <td>28.280</td>\n",
       "      <td>0.0550</td>\n",
       "      <td>100.0100</td>\n",
       "    </tr>\n",
       "    <tr>\n",
       "      <th>0</th>\n",
       "      <td>Action</td>\n",
       "      <td>463</td>\n",
       "      <td>57.510</td>\n",
       "      <td>1.5150</td>\n",
       "      <td>208.4300</td>\n",
       "    </tr>\n",
       "    <tr>\n",
       "      <th>14</th>\n",
       "      <td>SciFi</td>\n",
       "      <td>225</td>\n",
       "      <td>57.910</td>\n",
       "      <td>3.6700</td>\n",
       "      <td>249.5700</td>\n",
       "    </tr>\n",
       "    <tr>\n",
       "      <th>7</th>\n",
       "      <td>Family</td>\n",
       "      <td>189</td>\n",
       "      <td>88.610</td>\n",
       "      <td>24.2300</td>\n",
       "      <td>297.1400</td>\n",
       "    </tr>\n",
       "    <tr>\n",
       "      <th>8</th>\n",
       "      <td>Fantasy</td>\n",
       "      <td>191</td>\n",
       "      <td>92.220</td>\n",
       "      <td>14.4450</td>\n",
       "      <td>362.2700</td>\n",
       "    </tr>\n",
       "    <tr>\n",
       "      <th>1</th>\n",
       "      <td>Adventure</td>\n",
       "      <td>311</td>\n",
       "      <td>122.340</td>\n",
       "      <td>19.6150</td>\n",
       "      <td>381.7450</td>\n",
       "    </tr>\n",
       "    <tr>\n",
       "      <th>2</th>\n",
       "      <td>Animation</td>\n",
       "      <td>123</td>\n",
       "      <td>151.090</td>\n",
       "      <td>28.5550</td>\n",
       "      <td>381.7400</td>\n",
       "    </tr>\n",
       "  </tbody>\n",
       "</table>\n",
       "</div>"
      ],
      "text/plain": [
       "     Genre_name  Genre_count   Median      Q25       Q75\n",
       "15     TV_Movie            5   -1.920  -4.1800  134.8200\n",
       "18      Western           24   -0.825  -8.1875   58.2275\n",
       "5   Documentary           71    0.890  -1.1650   22.8550\n",
       "17          War           52    5.025  -9.8750   87.2900\n",
       "9       History           77    7.640  -7.6300   36.1200\n",
       "11        Music           55    8.150  -2.3150   59.6900\n",
       "6         Drama          911    8.270  -2.8200   47.7700\n",
       "4         Crime          248   10.815  -4.0825   57.1425\n",
       "13      Romance          243   15.970  -0.6500   71.3050\n",
       "16     Thriller          513   16.960  -2.0200   72.0900\n",
       "12      Mystery          140   21.710  -0.1375   87.3025\n",
       "10       Horror          236   25.425  -0.4550   69.1950\n",
       "3        Comedy          584   28.280   0.0550  100.0100\n",
       "0        Action          463   57.510   1.5150  208.4300\n",
       "14        SciFi          225   57.910   3.6700  249.5700\n",
       "7        Family          189   88.610  24.2300  297.1400\n",
       "8       Fantasy          191   92.220  14.4450  362.2700\n",
       "1     Adventure          311  122.340  19.6150  381.7450\n",
       "2     Animation          123  151.090  28.5550  381.7400"
      ]
     },
     "execution_count": 29,
     "metadata": {},
     "output_type": "execute_result"
    }
   ],
   "source": [
    "# count of each genre after inner merge\n",
    "Genre = dp.genre_count(df_genre)\n",
    "Genre"
   ]
  },
  {
   "cell_type": "code",
   "execution_count": 30,
   "metadata": {},
   "outputs": [
    {
     "name": "stdout",
     "output_type": "stream",
     "text": [
      "<class 'pandas.core.frame.DataFrame'>\n",
      "Int64Index: 2800 entries, 0 to 2799\n",
      "Data columns (total 12 columns):\n",
      " #   Column             Non-Null Count  Dtype         \n",
      "---  ------             --------------  -----         \n",
      " 0   movie              2800 non-null   object        \n",
      " 1   production_budget  2800 non-null   object        \n",
      " 2   worldwide_gross    2800 non-null   object        \n",
      " 3   date               2800 non-null   datetime64[ns]\n",
      " 4   year               2800 non-null   int64         \n",
      " 5   budget             2800 non-null   float64       \n",
      " 6   w_gross            2800 non-null   float64       \n",
      " 7   profit             2800 non-null   float64       \n",
      " 8   movie_id           2800 non-null   object        \n",
      " 9   primary_title      2800 non-null   object        \n",
      " 10  start_year         2800 non-null   int64         \n",
      " 11  runtime_minutes    2800 non-null   float64       \n",
      "dtypes: datetime64[ns](1), float64(4), int64(2), object(5)\n",
      "memory usage: 284.4+ KB\n"
     ]
    }
   ],
   "source": [
    "df_runtime.info()"
   ]
  },
  {
   "cell_type": "code",
   "execution_count": 31,
   "metadata": {
    "scrolled": true
   },
   "outputs": [
    {
     "data": {
      "text/html": [
       "<div>\n",
       "<style scoped>\n",
       "    .dataframe tbody tr th:only-of-type {\n",
       "        vertical-align: middle;\n",
       "    }\n",
       "\n",
       "    .dataframe tbody tr th {\n",
       "        vertical-align: top;\n",
       "    }\n",
       "\n",
       "    .dataframe thead th {\n",
       "        text-align: right;\n",
       "    }\n",
       "</style>\n",
       "<table border=\"1\" class=\"dataframe\">\n",
       "  <thead>\n",
       "    <tr style=\"text-align: right;\">\n",
       "      <th></th>\n",
       "      <th>Median</th>\n",
       "      <th>Q25</th>\n",
       "      <th>Q75</th>\n",
       "    </tr>\n",
       "    <tr>\n",
       "      <th>index</th>\n",
       "      <th></th>\n",
       "      <th></th>\n",
       "      <th></th>\n",
       "    </tr>\n",
       "  </thead>\n",
       "  <tbody>\n",
       "    <tr>\n",
       "      <th>Less than 60</th>\n",
       "      <td>14.130</td>\n",
       "      <td>-1.5700</td>\n",
       "      <td>59.4275</td>\n",
       "    </tr>\n",
       "    <tr>\n",
       "      <th>60 to 80</th>\n",
       "      <td>10.380</td>\n",
       "      <td>-3.9150</td>\n",
       "      <td>52.0000</td>\n",
       "    </tr>\n",
       "    <tr>\n",
       "      <th>80 to 100</th>\n",
       "      <td>5.225</td>\n",
       "      <td>-2.6700</td>\n",
       "      <td>47.6625</td>\n",
       "    </tr>\n",
       "    <tr>\n",
       "      <th>100 to 120</th>\n",
       "      <td>20.425</td>\n",
       "      <td>-1.2925</td>\n",
       "      <td>78.8475</td>\n",
       "    </tr>\n",
       "    <tr>\n",
       "      <th>over 120</th>\n",
       "      <td>39.780</td>\n",
       "      <td>0.3150</td>\n",
       "      <td>182.2050</td>\n",
       "    </tr>\n",
       "  </tbody>\n",
       "</table>\n",
       "</div>"
      ],
      "text/plain": [
       "              Median     Q25       Q75\n",
       "index                                 \n",
       "Less than 60  14.130 -1.5700   59.4275\n",
       "60 to 80      10.380 -3.9150   52.0000\n",
       "80 to 100      5.225 -2.6700   47.6625\n",
       "100 to 120    20.425 -1.2925   78.8475\n",
       "over 120      39.780  0.3150  182.2050"
      ]
     },
     "execution_count": 31,
     "metadata": {},
     "output_type": "execute_result"
    }
   ],
   "source": [
    "runtime = dp.runtime_range(df_runtime)\n",
    "runtime"
   ]
  }
 ],
 "metadata": {
  "kernelspec": {
   "display_name": "Python 3",
   "language": "python",
   "name": "python3"
  },
  "language_info": {
   "codemirror_mode": {
    "name": "ipython",
    "version": 3
   },
   "file_extension": ".py",
   "mimetype": "text/x-python",
   "name": "python",
   "nbconvert_exporter": "python",
   "pygments_lexer": "ipython3",
   "version": "3.8.5"
  }
 },
 "nbformat": 4,
 "nbformat_minor": 4
}
